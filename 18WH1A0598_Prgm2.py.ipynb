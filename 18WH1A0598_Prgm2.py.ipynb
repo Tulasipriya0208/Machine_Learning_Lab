{
 "cells": [
  {
   "cell_type": "code",
   "execution_count": 3,
   "metadata": {},
   "outputs": [],
   "source": [
    "#!pip install db-sqlite3\n",
    "import sqlite3"
   ]
  },
  {
   "cell_type": "code",
   "execution_count": 5,
   "metadata": {},
   "outputs": [
    {
     "name": "stdout",
     "output_type": "stream",
     "text": [
      "Opened database successfully\n"
     ]
    }
   ],
   "source": [
    "conn=sqlite3.connect('exp2.db')\n",
    "cur=conn.cursor()\n",
    "#conn - sqlite3.connect('test.db')\n",
    "print(\"Opened database successfully\");"
   ]
  },
  {
   "cell_type": "code",
   "execution_count": 23,
   "metadata": {},
   "outputs": [
    {
     "name": "stdout",
     "output_type": "stream",
     "text": [
      "Table created successfully\n"
     ]
    }
   ],
   "source": [
    "conn.execute('''CREATE TABLE COMPANY\n",
    "         (ID INT PRIMARY KEY     NOT NULL,\n",
    "         NAME           TEXT    NOT NULL,\n",
    "         AGE            INT     NOT NULL,\n",
    "         ADDRESS        CHAR(50),\n",
    "         SALARY         REAL);''')\n",
    "print(\"Table created successfully\");"
   ]
  },
  {
   "cell_type": "code",
   "execution_count": 24,
   "metadata": {},
   "outputs": [
    {
     "name": "stdout",
     "output_type": "stream",
     "text": [
      "Records Created Successfully\n"
     ]
    }
   ],
   "source": [
    "conn.execute(\"INSERT INTO COMPANY(ID,NAME,AGE,ADDRESS,SALARY) VALUES (1, 'THOMAS', 25, 'NEWYORK', 45000.00)\");\n",
    "conn.execute(\"INSERT INTO COMPANY(ID,NAME,AGE,ADDRESS,SALARY) VALUES (2, 'DANIEL', 32, 'CALIFORNIA', 95000.00)\");\n",
    "conn.execute(\"INSERT INTO COMPANY(ID,NAME,AGE,ADDRESS,SALARY) VALUES (3, 'JOHN', 28, 'WASHINGTON', 55000.00)\");\n",
    "conn.execute(\"INSERT INTO COMPANY(ID,NAME,AGE,ADDRESS,SALARY) VALUES (4, 'STEFAN', 35, 'DALLAS', 80000.00)\");\n",
    "conn.execute(\"INSERT INTO COMPANY(ID,NAME,AGE,ADDRESS,SALARY) VALUES (5, 'JOSEPH', 36, 'ALASKA', 75000.00)\");\n",
    "conn.commit()\n",
    "print(\"Records Created Successfully\");"
   ]
  },
  {
   "cell_type": "code",
   "execution_count": 25,
   "metadata": {},
   "outputs": [
    {
     "name": "stdout",
     "output_type": "stream",
     "text": [
      "(1, 'THOMAS', 25, 'NEWYORK', 45000.0)\n",
      "(2, 'DANIEL', 32, 'CALIFORNIA', 95000.0)\n",
      "(3, 'JOHN', 28, 'WASHINGTON', 55000.0)\n",
      "(4, 'STEFAN', 35, 'DALLAS', 80000.0)\n",
      "(5, 'JOSEPH', 36, 'ALASKA', 75000.0)\n"
     ]
    }
   ],
   "source": [
    "for row in conn.execute('select * from COMPANY'):\n",
    "        print(row)"
   ]
  },
  {
   "cell_type": "code",
   "execution_count": 26,
   "metadata": {},
   "outputs": [],
   "source": [
    "conn.commit()"
   ]
  },
  {
   "cell_type": "code",
   "execution_count": 27,
   "metadata": {},
   "outputs": [],
   "source": [
    "conn.close()"
   ]
  }
 ],
 "metadata": {
  "kernelspec": {
   "display_name": "Python 3",
   "language": "python",
   "name": "python3"
  },
  "language_info": {
   "codemirror_mode": {
    "name": "ipython",
    "version": 3
   },
   "file_extension": ".py",
   "mimetype": "text/x-python",
   "name": "python",
   "nbconvert_exporter": "python",
   "pygments_lexer": "ipython3",
   "version": "3.8.5"
  }
 },
 "nbformat": 4,
 "nbformat_minor": 4
}
