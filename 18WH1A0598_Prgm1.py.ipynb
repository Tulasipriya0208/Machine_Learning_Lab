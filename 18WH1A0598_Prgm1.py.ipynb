{
 "cells": [
  {
   "cell_type": "code",
   "execution_count": 4,
   "metadata": {},
   "outputs": [
    {
     "name": "stdout",
     "output_type": "stream",
     "text": [
      "15.0\n"
     ]
    }
   ],
   "source": [
    "#p(absent and friday)=0.03\n",
    "probAbsentFriday=0.03 \n",
    "#p(friday)=0.2\n",
    "probFriday=0.2\n",
    "#using Bayes Theorem\n",
    "#p(A|F)=p(F| A)p(A)/p(F) \n",
    "result=(probAbsentFriday/probFriday)\n",
    "#display result in the form of %\n",
    "print(result*100)"
   ]
  }
 ],
 "metadata": {
  "kernelspec": {
   "display_name": "Python 3",
   "language": "python",
   "name": "python3"
  },
  "language_info": {
   "codemirror_mode": {
    "name": "ipython",
    "version": 3
   },
   "file_extension": ".py",
   "mimetype": "text/x-python",
   "name": "python",
   "nbconvert_exporter": "python",
   "pygments_lexer": "ipython3",
   "version": "3.8.5"
  }
 },
 "nbformat": 4,
 "nbformat_minor": 4
}
